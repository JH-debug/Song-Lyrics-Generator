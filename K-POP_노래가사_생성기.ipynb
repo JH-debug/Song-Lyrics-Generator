{
  "nbformat": 4,
  "nbformat_minor": 0,
  "metadata": {
    "colab": {
      "name": "K-POP 노래가사 생성기.ipynb",
      "provenance": [],
      "collapsed_sections": [
        "N2Ke0BYwIuOA"
      ],
      "toc_visible": true,
      "include_colab_link": true
    },
    "kernelspec": {
      "name": "python3",
      "display_name": "Python 3"
    },
    "accelerator": "GPU"
  },
  "cells": [
    {
      "cell_type": "markdown",
      "metadata": {
        "id": "view-in-github",
        "colab_type": "text"
      },
      "source": [
        "<a href=\"https://colab.research.google.com/github/chloesung/Song-Lyrics-Generator/blob/main/K-POP_%EB%85%B8%EB%9E%98%EA%B0%80%EC%82%AC_%EC%83%9D%EC%84%B1%EA%B8%B0.ipynb\" target=\"_parent\"><img src=\"https://colab.research.google.com/assets/colab-badge.svg\" alt=\"Open In Colab\"/></a>"
      ]
    },
    {
      "cell_type": "markdown",
      "metadata": {
        "id": "Ijxfa6X5ELRq"
      },
      "source": [
        "# 🎤 🎧 💿 K-POP 세대별 노래 가사 생성기 💿 🎧 🎤"
      ]
    },
    {
      "cell_type": "markdown",
      "metadata": {
        "id": "N2Ke0BYwIuOA"
      },
      "source": [
        "###  🪄 준비 과정! 코드를 모두 돌려주세요 "
      ]
    },
    {
      "cell_type": "code",
      "metadata": {
        "id": "HrcDXGDuGXTA",
        "colab": {
          "base_uri": "https://localhost:8080/"
        },
        "outputId": "32061add-cc39-4040-f5c5-bedbbfafba12"
      },
      "source": [
        "!pip install transformers\n",
        "import os\n",
        "from google.colab import drive\n",
        "\n",
        "import pandas as pd\n",
        "import numpy as np\n",
        "import random\n",
        "\n",
        "import torch\n",
        "from torch.utils.data import Dataset, DataLoader, random_split, RandomSampler, SequentialSampler\n",
        "torch.manual_seed(42)\n",
        "\n",
        "from transformers import GPT2LMHeadModel,  GPT2Tokenizer, GPT2Config, GPT2LMHeadModel\n",
        "from transformers import AdamW, get_linear_schedule_with_warmup\n",
        "\n",
        "import nltk\n",
        "nltk.download('punkt')"
      ],
      "execution_count": null,
      "outputs": [
        {
          "output_type": "stream",
          "text": [
            "Requirement already satisfied: transformers in /usr/local/lib/python3.7/dist-packages (4.3.3)\n",
            "Requirement already satisfied: filelock in /usr/local/lib/python3.7/dist-packages (from transformers) (3.0.12)\n",
            "Requirement already satisfied: tqdm>=4.27 in /usr/local/lib/python3.7/dist-packages (from transformers) (4.41.1)\n",
            "Requirement already satisfied: regex!=2019.12.17 in /usr/local/lib/python3.7/dist-packages (from transformers) (2019.12.20)\n",
            "Requirement already satisfied: packaging in /usr/local/lib/python3.7/dist-packages (from transformers) (20.9)\n",
            "Requirement already satisfied: sacremoses in /usr/local/lib/python3.7/dist-packages (from transformers) (0.0.43)\n",
            "Requirement already satisfied: numpy>=1.17 in /usr/local/lib/python3.7/dist-packages (from transformers) (1.19.5)\n",
            "Requirement already satisfied: requests in /usr/local/lib/python3.7/dist-packages (from transformers) (2.23.0)\n",
            "Requirement already satisfied: tokenizers<0.11,>=0.10.1 in /usr/local/lib/python3.7/dist-packages (from transformers) (0.10.1)\n",
            "Requirement already satisfied: importlib-metadata; python_version < \"3.8\" in /usr/local/lib/python3.7/dist-packages (from transformers) (3.7.0)\n",
            "Requirement already satisfied: pyparsing>=2.0.2 in /usr/local/lib/python3.7/dist-packages (from packaging->transformers) (2.4.7)\n",
            "Requirement already satisfied: click in /usr/local/lib/python3.7/dist-packages (from sacremoses->transformers) (7.1.2)\n",
            "Requirement already satisfied: joblib in /usr/local/lib/python3.7/dist-packages (from sacremoses->transformers) (1.0.1)\n",
            "Requirement already satisfied: six in /usr/local/lib/python3.7/dist-packages (from sacremoses->transformers) (1.15.0)\n",
            "Requirement already satisfied: idna<3,>=2.5 in /usr/local/lib/python3.7/dist-packages (from requests->transformers) (2.10)\n",
            "Requirement already satisfied: urllib3!=1.25.0,!=1.25.1,<1.26,>=1.21.1 in /usr/local/lib/python3.7/dist-packages (from requests->transformers) (1.24.3)\n",
            "Requirement already satisfied: certifi>=2017.4.17 in /usr/local/lib/python3.7/dist-packages (from requests->transformers) (2020.12.5)\n",
            "Requirement already satisfied: chardet<4,>=3.0.2 in /usr/local/lib/python3.7/dist-packages (from requests->transformers) (3.0.4)\n",
            "Requirement already satisfied: zipp>=0.5 in /usr/local/lib/python3.7/dist-packages (from importlib-metadata; python_version < \"3.8\"->transformers) (3.4.0)\n",
            "Requirement already satisfied: typing-extensions>=3.6.4; python_version < \"3.8\" in /usr/local/lib/python3.7/dist-packages (from importlib-metadata; python_version < \"3.8\"->transformers) (3.7.4.3)\n",
            "[nltk_data] Downloading package punkt to /root/nltk_data...\n",
            "[nltk_data]   Package punkt is already up-to-date!\n"
          ],
          "name": "stdout"
        },
        {
          "output_type": "execute_result",
          "data": {
            "text/plain": [
              "True"
            ]
          },
          "metadata": {
            "tags": []
          },
          "execution_count": 1
        }
      ]
    },
    {
      "cell_type": "code",
      "metadata": {
        "id": "D0hRQTI70A0Y"
      },
      "source": [
        "# Authentication을 진행합니다\n",
        "from google.colab import auth\n",
        "auth.authenticate_user() \n",
        "\n",
        "# 필요한 파일을 다운로드 해줍니다\n",
        "\n",
        "def folder_list(folder_id):\n",
        "  from googleapiclient.discovery import build\n",
        "  gdrive = build('drive', 'v3').files()\n",
        "  res = gdrive.list(q=\"'%s' in parents\" % folder_id).execute()\n",
        "  return [f['id'] for f in res['files']]\n",
        "\n",
        "'''download all files from a gdrive folder to current directory'''\n",
        "def folder_download(folder_id):\n",
        "  for fid in folder_list(folder_id):\n",
        "    !gdown -q --id $fid\n",
        "\n",
        "folder_id = \"1aaLQZCaMlkWwqmOsU3-R-cImUkFh9BwU\"\n",
        "folder_download(folder_id)"
      ],
      "execution_count": null,
      "outputs": []
    },
    {
      "cell_type": "code",
      "metadata": {
        "id": "XuyiFtjvE9IC"
      },
      "source": [
        "#모델, 토크나이저 불러오기\n",
        "\n",
        "LOAD_MODEL_DIR = \"/content\"\n",
        "model = GPT2LMHeadModel.from_pretrained(LOAD_MODEL_DIR)\n",
        "from transformers import BertTokenizerFast, GPT2LMHeadModel\n",
        "tokenizer = BertTokenizerFast.from_pretrained(LOAD_MODEL_DIR)"
      ],
      "execution_count": null,
      "outputs": []
    },
    {
      "cell_type": "markdown",
      "metadata": {
        "id": "39b525fFI1Xg"
      },
      "source": [
        "### 본격적인 가사 생성! 🎶 🎵"
      ]
    },
    {
      "cell_type": "code",
      "metadata": {
        "colab": {
          "base_uri": "https://localhost:8080/"
        },
        "cellView": "form",
        "id": "A9kgLg0p0wuz",
        "outputId": "e72fde48-f968-454e-f9c8-225ddcb31111"
      },
      "source": [
        "#@markdown 가사와 세대를 입력해주세요:\n",
        "\n",
        "generation = \"1\\uC138\\uB300\" #@param ['1세대', '2세대', '3세대']\n",
        "lyrics = \"\\uBA38\\uB9AC\\uBD80\\uD130 \\uBC1C\\uB05D\\uAE4C\\uC9C0\" #@param {type:\"string\"}\n",
        "\n",
        "#@markdown 생성할 가사의 개수를 고르세요:\n",
        "num = 3 #@param {type:\"slider\", min:1, max:10, step:1}\n",
        "\n",
        "#input 생성하기\n",
        "given = '<|startoftext|>' + '<' + generation + '> ' + lyrics + '<br>'\n",
        "input = tokenizer.encode(given, return_tensors='pt')\n",
        "input = input[:, 1:]  # remove cls token\n",
        "\n",
        "#output 만들기\n",
        "sample_outputs = model.generate(\n",
        "                                input, \n",
        "                                #bos_token_id=random.randint(1,30000),\n",
        "                                do_sample=True,   \n",
        "                                top_k=50, \n",
        "                                top_p=0.95, \n",
        "                                max_length = 300,\n",
        "                                num_return_sequences=num,\n",
        "                                repetition_penalty=1.3\n",
        "                                )\n",
        "\n",
        "# Print the generated lyrics\n",
        "for i, sample_output in enumerate(sample_outputs):\n",
        "    lyric = tokenizer.decode(sample_output, skip_special_tokens=True)\n",
        "    print(\"\\n\" + (\"-\"*50) + \"[\" + str(i+1) + \"]\" + (\"-\"*50) + \"\\n\")\n",
        "    print(\"세대: \", generation,'\\n' \"입력된 가사: \", lyrics,'\\n')\n",
        "    print(lyric.replace('<br>', '\\n'))\n"
      ],
      "execution_count": null,
      "outputs": [
        {
          "output_type": "stream",
          "text": [
            "Setting `pad_token_id` to `eos_token_id`:3 for open-end generation.\n"
          ],
          "name": "stderr"
        }
      ]
    }
  ]
}