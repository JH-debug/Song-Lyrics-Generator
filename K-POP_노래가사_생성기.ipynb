{
  "nbformat": 4,
  "nbformat_minor": 0,
  "metadata": {
    "colab": {
      "name": "K-POP 노래가사 생성기.ipynb",
      "provenance": [],
      "collapsed_sections": [
        "N2Ke0BYwIuOA"
      ],
      "toc_visible": true,
      "include_colab_link": true
    },
    "kernelspec": {
      "name": "python3",
      "display_name": "Python 3"
    },
    "accelerator": "GPU"
  },
  "cells": [
    {
      "cell_type": "markdown",
      "metadata": {
        "id": "view-in-github",
        "colab_type": "text"
      },
      "source": [
        "<a href=\"https://colab.research.google.com/github/chloesung/Song-Lyrics-Generator/blob/main/K-POP_%EB%85%B8%EB%9E%98%EA%B0%80%EC%82%AC_%EC%83%9D%EC%84%B1%EA%B8%B0.ipynb\" target=\"_parent\"><img src=\"https://colab.research.google.com/assets/colab-badge.svg\" alt=\"Open In Colab\"/></a>"
      ]
    },
    {
      "cell_type": "markdown",
      "metadata": {
        "id": "Ijxfa6X5ELRq"
      },
      "source": [
        "# 🎤 🎧 💿 K-POP 세대별 노래 가사 생성기 💿 🎧 🎤"
      ]
    },
    {
      "cell_type": "markdown",
      "metadata": {
        "id": "N2Ke0BYwIuOA"
      },
      "source": [
        "###  🪄 준비 과정! 코드를 모두 돌려주세요 "
      ]
    },
    {
      "cell_type": "code",
      "metadata": {
        "id": "HrcDXGDuGXTA",
        "colab": {
          "base_uri": "https://localhost:8080/"
        },
        "outputId": "e04fa55a-7668-4bb5-f7d3-12f7722dbb4e"
      },
      "source": [
        "!pip install transformers\n",
        "import os\n",
        "from google.colab import drive\n",
        "\n",
        "import pandas as pd\n",
        "import numpy as np\n",
        "import random\n",
        "\n",
        "import torch\n",
        "from torch.utils.data import Dataset, DataLoader, random_split, RandomSampler, SequentialSampler\n",
        "torch.manual_seed(42)\n",
        "\n",
        "from transformers import GPT2LMHeadModel,  GPT2Tokenizer, GPT2Config, GPT2LMHeadModel\n",
        "from transformers import AdamW, get_linear_schedule_with_warmup\n",
        "\n",
        "import nltk\n",
        "nltk.download('punkt')"
      ],
      "execution_count": 1,
      "outputs": [
        {
          "output_type": "stream",
          "text": [
            "Collecting transformers\n",
            "\u001b[?25l  Downloading https://files.pythonhosted.org/packages/f9/54/5ca07ec9569d2f232f3166de5457b63943882f7950ddfcc887732fc7fb23/transformers-4.3.3-py3-none-any.whl (1.9MB)\n",
            "\u001b[K     |████████████████████████████████| 1.9MB 18.3MB/s \n",
            "\u001b[?25hRequirement already satisfied: importlib-metadata; python_version < \"3.8\" in /usr/local/lib/python3.7/dist-packages (from transformers) (3.7.0)\n",
            "Collecting tokenizers<0.11,>=0.10.1\n",
            "\u001b[?25l  Downloading https://files.pythonhosted.org/packages/71/23/2ddc317b2121117bf34dd00f5b0de194158f2a44ee2bf5e47c7166878a97/tokenizers-0.10.1-cp37-cp37m-manylinux2010_x86_64.whl (3.2MB)\n",
            "\u001b[K     |████████████████████████████████| 3.2MB 44.2MB/s \n",
            "\u001b[?25hRequirement already satisfied: packaging in /usr/local/lib/python3.7/dist-packages (from transformers) (20.9)\n",
            "Collecting sacremoses\n",
            "\u001b[?25l  Downloading https://files.pythonhosted.org/packages/7d/34/09d19aff26edcc8eb2a01bed8e98f13a1537005d31e95233fd48216eed10/sacremoses-0.0.43.tar.gz (883kB)\n",
            "\u001b[K     |████████████████████████████████| 890kB 53.6MB/s \n",
            "\u001b[?25hRequirement already satisfied: requests in /usr/local/lib/python3.7/dist-packages (from transformers) (2.23.0)\n",
            "Requirement already satisfied: regex!=2019.12.17 in /usr/local/lib/python3.7/dist-packages (from transformers) (2019.12.20)\n",
            "Requirement already satisfied: numpy>=1.17 in /usr/local/lib/python3.7/dist-packages (from transformers) (1.19.5)\n",
            "Requirement already satisfied: tqdm>=4.27 in /usr/local/lib/python3.7/dist-packages (from transformers) (4.41.1)\n",
            "Requirement already satisfied: filelock in /usr/local/lib/python3.7/dist-packages (from transformers) (3.0.12)\n",
            "Requirement already satisfied: typing-extensions>=3.6.4; python_version < \"3.8\" in /usr/local/lib/python3.7/dist-packages (from importlib-metadata; python_version < \"3.8\"->transformers) (3.7.4.3)\n",
            "Requirement already satisfied: zipp>=0.5 in /usr/local/lib/python3.7/dist-packages (from importlib-metadata; python_version < \"3.8\"->transformers) (3.4.0)\n",
            "Requirement already satisfied: pyparsing>=2.0.2 in /usr/local/lib/python3.7/dist-packages (from packaging->transformers) (2.4.7)\n",
            "Requirement already satisfied: six in /usr/local/lib/python3.7/dist-packages (from sacremoses->transformers) (1.15.0)\n",
            "Requirement already satisfied: click in /usr/local/lib/python3.7/dist-packages (from sacremoses->transformers) (7.1.2)\n",
            "Requirement already satisfied: joblib in /usr/local/lib/python3.7/dist-packages (from sacremoses->transformers) (1.0.1)\n",
            "Requirement already satisfied: urllib3!=1.25.0,!=1.25.1,<1.26,>=1.21.1 in /usr/local/lib/python3.7/dist-packages (from requests->transformers) (1.24.3)\n",
            "Requirement already satisfied: certifi>=2017.4.17 in /usr/local/lib/python3.7/dist-packages (from requests->transformers) (2020.12.5)\n",
            "Requirement already satisfied: chardet<4,>=3.0.2 in /usr/local/lib/python3.7/dist-packages (from requests->transformers) (3.0.4)\n",
            "Requirement already satisfied: idna<3,>=2.5 in /usr/local/lib/python3.7/dist-packages (from requests->transformers) (2.10)\n",
            "Building wheels for collected packages: sacremoses\n",
            "  Building wheel for sacremoses (setup.py) ... \u001b[?25l\u001b[?25hdone\n",
            "  Created wheel for sacremoses: filename=sacremoses-0.0.43-cp37-none-any.whl size=893262 sha256=4713fe0cab76dc3505d7ea75c6ea1a204037c3d67cb76ddb151148602270a7ce\n",
            "  Stored in directory: /root/.cache/pip/wheels/29/3c/fd/7ce5c3f0666dab31a50123635e6fb5e19ceb42ce38d4e58f45\n",
            "Successfully built sacremoses\n",
            "Installing collected packages: tokenizers, sacremoses, transformers\n",
            "Successfully installed sacremoses-0.0.43 tokenizers-0.10.1 transformers-4.3.3\n",
            "[nltk_data] Downloading package punkt to /root/nltk_data...\n",
            "[nltk_data]   Unzipping tokenizers/punkt.zip.\n"
          ],
          "name": "stdout"
        },
        {
          "output_type": "execute_result",
          "data": {
            "text/plain": [
              "True"
            ]
          },
          "metadata": {
            "tags": []
          },
          "execution_count": 1
        }
      ]
    },
    {
      "cell_type": "code",
      "metadata": {
        "id": "D0hRQTI70A0Y"
      },
      "source": [
        "# Authentication을 진행합니다\n",
        "from google.colab import auth\n",
        "auth.authenticate_user() \n",
        "\n",
        "# 필요한 파일을 다운로드 해줍니다\n",
        "\n",
        "def folder_list(folder_id):\n",
        "  from googleapiclient.discovery import build\n",
        "  gdrive = build('drive', 'v3').files()\n",
        "  res = gdrive.list(q=\"'%s' in parents\" % folder_id).execute()\n",
        "  return [f['id'] for f in res['files']]\n",
        "\n",
        "'''download all files from a gdrive folder to current directory'''\n",
        "def folder_download(folder_id):\n",
        "  for fid in folder_list(folder_id):\n",
        "    !gdown -q --id $fid\n",
        "\n",
        "folder_id = \"1aaLQZCaMlkWwqmOsU3-R-cImUkFh9BwU\"\n",
        "folder_download(folder_id)"
      ],
      "execution_count": 2,
      "outputs": []
    },
    {
      "cell_type": "code",
      "metadata": {
        "id": "XuyiFtjvE9IC"
      },
      "source": [
        "#모델, 토크나이저 불러오기\n",
        "\n",
        "LOAD_MODEL_DIR = \"/content\"\n",
        "model = GPT2LMHeadModel.from_pretrained(LOAD_MODEL_DIR)\n",
        "from transformers import BertTokenizerFast, GPT2LMHeadModel\n",
        "tokenizer = BertTokenizerFast.from_pretrained(LOAD_MODEL_DIR)"
      ],
      "execution_count": 3,
      "outputs": []
    },
    {
      "cell_type": "markdown",
      "metadata": {
        "id": "39b525fFI1Xg"
      },
      "source": [
        "### 본격적인 가사 생성! 🎶 🎵"
      ]
    },
    {
      "cell_type": "code",
      "metadata": {
        "colab": {
          "base_uri": "https://localhost:8080/"
        },
        "cellView": "form",
        "id": "A9kgLg0p0wuz",
        "outputId": "aa4f2d0c-9e8e-4b32-bf2a-730a97a1eeea"
      },
      "source": [
        "#@markdown 가사와 세대를 입력해주세요:\n",
        "\n",
        "generation = \"3\\uC138\\uB300\" #@param ['1세대', '2세대', '3세대']\n",
        "lyrics = \"\\uBA38\\uB9AC\\uBD80\\uD130 \\uBC1C\\uB05D\\uAE4C\\uC9C0\" #@param {type:\"string\"}\n",
        "\n",
        "#@markdown 생성할 가사의 개수를 고르세요:\n",
        "num = 3 #@param {type:\"slider\", min:1, max:10, step:1}\n",
        "\n",
        "#input 생성하기\n",
        "given = '<|startoftext|>' + '<' + generation + '> ' + lyrics + '<br>'\n",
        "input = tokenizer.encode(given, return_tensors='pt')\n",
        "input = input[:, 1:]  # remove cls token\n",
        "\n",
        "#output 만들기\n",
        "sample_outputs = model.generate(\n",
        "                                input, \n",
        "                                #bos_token_id=random.randint(1,30000),\n",
        "                                do_sample=True,   \n",
        "                                top_k=50, \n",
        "                                top_p=0.95, \n",
        "                                max_length = 300,\n",
        "                                num_return_sequences=num,\n",
        "                                repetition_penalty=1.3\n",
        "                                )\n",
        "\n",
        "# Print the generated lyrics\n",
        "for i, sample_output in enumerate(sample_outputs):\n",
        "    lyric = tokenizer.decode(sample_output, skip_special_tokens=True)\n",
        "    print(\"\\n\" + (\"-\"*50) + \"[\" + str(i+1) + \"]\" + (\"-\"*50) + \"\\n\")\n",
        "    print(\"세대: \", generation,'\\n' \"입력된 가사: \", lyrics,'\\n')\n",
        "    print(lyric.replace('<br>', '\\n'))\n"
      ],
      "execution_count": 6,
      "outputs": [
        {
          "output_type": "stream",
          "text": [
            "Setting `pad_token_id` to `eos_token_id`:3 for open-end generation.\n"
          ],
          "name": "stderr"
        },
        {
          "output_type": "stream",
          "text": [
            "\n",
            "--------------------------------------------------[1]--------------------------------------------------\n",
            "\n",
            "세대:  3세대 \n",
            "입력된 가사:  머리부터 발끝까지 \n",
            "\n",
            "머리부터 발끝까지 \n",
            " 1 2 3 4 5 6 7 8 step up my body \n",
            " hey yo ah o h 1 2 3 lets go \n",
            " 오늘 밤은 특별한 게 있어 \n",
            " 바로 이 순간에 \n",
            " i wanna dance all night long with you \n",
            " 그 누구도 부럽지 않은 밤을 위해 \n",
            " 준비된 걸 그룹인 거죠 \n",
            " 자 지금부터 하나 둘 셋 closer to the floor \n",
            " 춤을 출 땐 아무도 눈치 보지 말고 \n",
            " 그대의 손을 잡아요 \n",
            " 여기 ma baby party rock your sounds playgirls \n",
            " 무대 뒤엔 멋진 남자가 서있어 \n",
            " 지금 내가 할 말은 바로 이것 \n",
            " 널 바라보는 건 나의 매력뿐이야 \n",
            " 이 음악에 너를 맡겨봐 come on now im missing u \n",
            " 이 밤이 가면 너도 날 따라 나와 춤춰 봐 \n",
            " 멈추지 않아 끝까지 다 함께 \n",
            " 흔들어 봐 show time ride \n",
            " 숨이 멎게 흔들어 just simple lovely ladystancial motion \n",
            " 네 맘속에 난 이제 들어갈 거야 forever \n",
            " 오직 너만의 공간 속에서 \n",
            " 네가 원하는 대로 해 볼래 지금 이대로 \n",
            " 나를 미치도록 만드는 너의 매력에 빠져 \n",
            " 넌 내게 완벽한 사람이야 \n",
            " 너무 완벽하다고 자신 있게 말해봐 \n",
            " its okay that girl that were funniest vidalist so sweep\n",
            "\n",
            "--------------------------------------------------[2]--------------------------------------------------\n",
            "\n",
            "세대:  3세대 \n",
            "입력된 가사:  머리부터 발끝까지 \n",
            "\n",
            "머리부터 발끝까지 \n",
            " bounce to the hip hop girls were in here \n",
            " that im not over its all good for you \n",
            " wo thank u \n",
            " 내 삶에 주인공 넌 바로 너 oh my god \n",
            " oh my god oh my dog baby lets cry \n",
            " something four till i fall fall nah \n",
            " 너 하나 빼고 전부 \n",
            " 다 필요 없어 이젠 내게 와 \n",
            " 너의 미소를 보니 나 또 다시 미쳐가 yeah \n",
            " 온 몸에 전율이 와 어지러워져와 \n",
            " what can i stop listen your love \n",
            " 더는 날 볼 수가 없는 걸 어떡해 \n",
            " 왜 자꾸 바보같이 못 보는지 \n",
            " 네가 멀어질수록 난 미칠 것만 같아 미치겠어 \n",
            " no more no more no lie \n",
            " no later lonely lonely mornin at me \n",
            " 너를 보면 맘이 두근거려 나를 꽉 안아줘 꼭 안겨봐 \n",
            " 너도 내가 좋다면 같이 춤춰 봐 \n",
            " 지금 이순간 우리 둘의 party 가식없는 모습 보여 줄래 \n",
            " just be free without this world \n",
            " 너의 웃음과 몸짓이 난 너무나도 멋있어 \n",
            " 너는 마치 내 우주 속 작은 점처럼 너무 아름다워서 \n",
            " 내 모든 게 이 모든게 꿈이기를 바래왔어 \n",
            " 그래 뭐든지 할 수 있을 것 만 같은 기대에 부풀어서 \n",
            " 그렇게 다가와서 \n",
            " 사랑한다 말해줄게 oh babe \n",
            " 니가 원한다면\n",
            "\n",
            "--------------------------------------------------[3]--------------------------------------------------\n",
            "\n",
            "세대:  3세대 \n",
            "입력된 가사:  머리부터 발끝까지 \n",
            "\n",
            "머리부터 발끝까지 \n",
            " we back again baby we out there \n",
            " you guys on and on now this girls break it down my feet and ya handle up uh oh uh uh hey boomboom eye contacted a chuin move all in the roof top give it to your dression aint gotta kiss me our show \n",
            " cuz im sorry ma girl like that tattoo in a dash \n",
            " just one more said coming around ever even fine lets go right here cause my loved beat again \n",
            " things always never ever wastay without you hate myself sexual nail and a silent spot light yup in side for faces of pendex flipping your whisper tens as i usualize from my real anticarnate \n",
            " hosteling your vector is above under switching blusher at the click breath your minutes yall reaching i was looking for such a departure paints of emergencies \n",
            " putem up high away and known that\n"
          ],
          "name": "stdout"
        }
      ]
    }
  ]
}